{
 "cells": [
  {
   "cell_type": "markdown",
   "metadata": {},
   "source": [
    "تمرین 1"
   ]
  },
  {
   "cell_type": "code",
   "execution_count": null,
   "metadata": {},
   "outputs": [],
   "source": [
    "a=[1,2,3,4,5]\n",
    "b=[]\n",
    "for i in range(len(a),0,-1):\n",
    "    b.append(a[i-1])\n",
    "print(b)\n",
    "    "
   ]
  },
  {
   "cell_type": "code",
   "execution_count": null,
   "metadata": {},
   "outputs": [],
   "source": [
    "def my_reverse(l):\n",
    "    b=[]\n",
    "    for i in range(len(a),0,-1):\n",
    "        b.append(a[i-1])\n",
    "    print(b)"
   ]
  },
  {
   "cell_type": "code",
   "execution_count": null,
   "metadata": {},
   "outputs": [],
   "source": [
    "my_reverse([1,2,3,4,5])"
   ]
  },
  {
   "cell_type": "markdown",
   "metadata": {},
   "source": [
    "تمرین 2"
   ]
  },
  {
   "cell_type": "code",
   "execution_count": null,
   "metadata": {},
   "outputs": [],
   "source": []
  },
  {
   "cell_type": "markdown",
   "metadata": {},
   "source": [
    "تمرین 3"
   ]
  },
  {
   "cell_type": "code",
   "execution_count": null,
   "metadata": {},
   "outputs": [],
   "source": [
    "v = int(input('Please enter your speed: '))\n",
    "c = 0\n",
    "\n",
    "if v <= 70:\n",
    "    print('Good')\n",
    "if v > 70:\n",
    "    for i in range(70, v, 5):\n",
    "        c += 1\n",
    "    print('Negative score =', c)\n",
    "    \n",
    "    if c > 12:\n",
    "        print('Your certificate is invalid.')"
   ]
  },
  {
   "cell_type": "code",
   "execution_count": 1,
   "metadata": {},
   "outputs": [],
   "source": [
    "def my_speed(v,s,n):\n",
    "    c = 0\n",
    "    \n",
    "    if v <= s:\n",
    "        print('Good')\n",
    "    if v > s:\n",
    "        for i in range(s, v, 5):\n",
    "            c += 1\n",
    "        print('Negative score =', c)\n",
    "        \n",
    "        if c > n:\n",
    "            print('Your certificate is invalid.')"
   ]
  },
  {
   "cell_type": "code",
   "execution_count": 2,
   "metadata": {},
   "outputs": [
    {
     "name": "stdout",
     "output_type": "stream",
     "text": [
      "Negative score = 16\n",
      "Your certificate is invalid.\n"
     ]
    }
   ],
   "source": [
    "my_speed(150,70,12)"
   ]
  },
  {
   "cell_type": "markdown",
   "metadata": {},
   "source": [
    "تمرین 4"
   ]
  },
  {
   "cell_type": "code",
   "execution_count": 8,
   "metadata": {},
   "outputs": [
    {
     "name": "stdout",
     "output_type": "stream",
     "text": [
      "3.1622776601683795\n"
     ]
    }
   ],
   "source": [
    "a = x, y = input( \"Enter Numbers: \" ).split(',')\n",
    "a=[int(x),int(y)]\n",
    "b = x, y = input( \"Enter Numbers: \" ).split(',')\n",
    "b=[int(x),int(y)]\n",
    "d = (((b[0]-a[0])**2) + ((b[1]-a[1])**2))**(1/2)\n",
    "print(d)"
   ]
  },
  {
   "cell_type": "code",
   "execution_count": 9,
   "metadata": {},
   "outputs": [],
   "source": [
    "def my_o(x1,y1,x2,y2):\n",
    "    d = (((x1 - x2)**2) + ((y1 - y2)**2))**(1/2)\n",
    "    return d"
   ]
  },
  {
   "cell_type": "code",
   "execution_count": 10,
   "metadata": {},
   "outputs": [
    {
     "data": {
      "text/plain": [
       "3.1622776601683795"
      ]
     },
     "execution_count": 10,
     "metadata": {},
     "output_type": "execute_result"
    }
   ],
   "source": [
    "my_o(5,5,6,8)"
   ]
  },
  {
   "cell_type": "markdown",
   "metadata": {},
   "source": [
    "تمرین 5 "
   ]
  },
  {
   "cell_type": "code",
   "execution_count": null,
   "metadata": {},
   "outputs": [],
   "source": [
    "a1 = (8-6)/(6-4)\n",
    "print(a1)\n",
    "a2 = (10-8)/(8-6)\n",
    "print(a2)"
   ]
  },
  {
   "cell_type": "code",
   "execution_count": 14,
   "metadata": {},
   "outputs": [],
   "source": [
    "def my_r(x1,y1,x2,y2,x3,y3):\n",
    "    a1 = (y2-y1)/(x2-x1)\n",
    "    a2 = (y3-y2)/(x3-x2)\n",
    "    if a1 == a2:\n",
    "        print('The points are aligned.')\n",
    "    else:\n",
    "        print('The dots are not aligned.')"
   ]
  },
  {
   "cell_type": "code",
   "execution_count": 15,
   "metadata": {},
   "outputs": [
    {
     "name": "stdout",
     "output_type": "stream",
     "text": [
      "The points are aligned.\n"
     ]
    }
   ],
   "source": [
    "my_r(4,6,6,8,8,10)"
   ]
  },
  {
   "cell_type": "markdown",
   "metadata": {},
   "source": [
    "تمرین 6"
   ]
  },
  {
   "cell_type": "code",
   "execution_count": 3,
   "metadata": {},
   "outputs": [],
   "source": [
    "def my_n2(x1,y1,x2,y2,x3,y3):\n",
    "    d1 = (((x1 - x2)**2) + ((y1 - y2)**2))**(1/2)\n",
    "    d2 = (((x1 - x3)**2) + ((y1 - y3)**2))**(1/2)\n",
    "    d3 = (((x3 - x2)**2) + ((y3 - y2)**2))**(1/2)\n",
    "    if (y2-y1)/(x2-x1) != (y3-y2)/(x3-x2):\n",
    "        if d1 == d2 ==d3:\n",
    "           return 'The triangle is equilateral.'\n",
    "        if d1 == d2 or d2 == d3 or d1 == d3:\n",
    "            return 'The triangle is isosceles.'\n",
    "        if d1**2 == d2**2 + d3**2 or d1**3 ==d2**1 + d3**2 or d1**1 == d2**3 + d3**2:\n",
    "           return 'The triangle is right-angled.'\n",
    "        else:\n",
    "            return 'The triangle is an isosceles triangle.'"
   ]
  },
  {
   "cell_type": "code",
   "execution_count": 4,
   "metadata": {},
   "outputs": [
    {
     "data": {
      "text/plain": [
       "'The triangle is an isosceles triangle.'"
      ]
     },
     "execution_count": 4,
     "metadata": {},
     "output_type": "execute_result"
    }
   ],
   "source": [
    "my_n2(4,5,6,8,9,2)"
   ]
  },
  {
   "cell_type": "markdown",
   "metadata": {},
   "source": [
    "تمرین 7"
   ]
  }
 ],
 "metadata": {
  "kernelspec": {
   "display_name": "Python 3",
   "language": "python",
   "name": "python3"
  },
  "language_info": {
   "codemirror_mode": {
    "name": "ipython",
    "version": 3
   },
   "file_extension": ".py",
   "mimetype": "text/x-python",
   "name": "python",
   "nbconvert_exporter": "python",
   "pygments_lexer": "ipython3",
   "version": "3.10.10"
  }
 },
 "nbformat": 4,
 "nbformat_minor": 2
}
